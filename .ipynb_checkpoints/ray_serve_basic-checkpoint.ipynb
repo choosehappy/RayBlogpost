{
 "cells": [
  {
   "cell_type": "code",
   "execution_count": null,
   "id": "574299a3",
   "metadata": {},
   "outputs": [],
   "source": [
    "#-- for the server\n",
    "import ray\n",
    "from ray import serve\n",
    "\n",
    "#-- for the client\n",
    "import requests\n",
    "import cv2\n",
    "import matplotlib.pyplot as plt\n",
    "import pickle\n"
   ]
  },
  {
   "cell_type": "code",
   "execution_count": null,
   "id": "d3f44607",
   "metadata": {},
   "outputs": [],
   "source": [
    "@serve.deployment(route_prefix=\"/image_rotate\")\n",
    "class ImageModel:\n",
    "    def __init__(self):\n",
    "        #do any initilization here, like loading a model!\n",
    "        pass\n",
    "\n",
    "    async def __call__(self, starlette_request):\n",
    "        \n",
    "        image_payload_bytes = await starlette_request.body()\n",
    "        img=pickle.loads(image_payload_bytes)\n",
    "        \n",
    "        img = cv2.rotate(img, cv2.ROTATE_90_CLOCKWISE)\n",
    "        mean_val=img.mean()\n",
    "        \n",
    "        return pickle.dumps((img,mean_val))"
   ]
  },
  {
   "cell_type": "code",
   "execution_count": null,
   "id": "a644fde2",
   "metadata": {},
   "outputs": [],
   "source": [
    "ray.init() #-- run this only once!"
   ]
  },
  {
   "cell_type": "code",
   "execution_count": null,
   "id": "83c992fe",
   "metadata": {},
   "outputs": [],
   "source": [
    "serve.start(address=\"auto\", http_options={\"host\": \"0.0.0.0\"})\n",
    "ImageModel.deploy()"
   ]
  },
  {
   "cell_type": "code",
   "execution_count": null,
   "id": "9c06fa3b",
   "metadata": {},
   "outputs": [],
   "source": [
    "imagedata = cv2.cvtColor(cv2.imread(\"09-322-02-1.bmp\"),cv2.COLOR_BGR2RGB)\n",
    "plt.imshow(imagedata)"
   ]
  },
  {
   "cell_type": "code",
   "execution_count": null,
   "id": "0695485c",
   "metadata": {},
   "outputs": [],
   "source": [
    "resp=requests.post(url=\"http://127.0.0.1:8000/image_rotate\",data=pickle.dumps(imagedata))"
   ]
  },
  {
   "cell_type": "code",
   "execution_count": null,
   "id": "b0bfa8b2",
   "metadata": {},
   "outputs": [],
   "source": [
    "resp_output = pickle.loads(resp.content)\n",
    "(returned_img,returned_mean_val)=resp_output"
   ]
  },
  {
   "cell_type": "code",
   "execution_count": null,
   "id": "0ead84c7",
   "metadata": {},
   "outputs": [],
   "source": [
    "plt.imshow(returned_img)\n",
    "print(returned_mean_val)"
   ]
  },
  {
   "cell_type": "code",
   "execution_count": null,
   "id": "53880909",
   "metadata": {},
   "outputs": [],
   "source": []
  }
 ],
 "metadata": {
  "jupytext": {
   "formats": "ipynb,py:light"
  },
  "kernelspec": {
   "display_name": "Python 3 (ipykernel)",
   "language": "python",
   "name": "python3"
  },
  "language_info": {
   "codemirror_mode": {
    "name": "ipython",
    "version": 3
   },
   "file_extension": ".py",
   "mimetype": "text/x-python",
   "name": "python",
   "nbconvert_exporter": "python",
   "pygments_lexer": "ipython3",
   "version": "3.10.7"
  }
 },
 "nbformat": 4,
 "nbformat_minor": 5
}
